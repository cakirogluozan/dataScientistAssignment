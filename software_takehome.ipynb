{
 "cells": [
  {
   "cell_type": "markdown",
   "metadata": {},
   "source": [
    "# Software Take Home Assignment\n",
    "\n",
    "In this file, you may find the solutions for Software Take Home Assignment.\n",
    "\n",
    "The code is written in Python 3.5.\n",
    "\n",
    "In order to visualize the outputs, the functions are performed on Jupyter Lab web-based interface. However, the functions can be operated at .py file, as well.\n",
    "\n",
    "For plotting the second task's time complexity, matplotlib and numpy libraries are used.\n",
    "\n",
    "*author : Ozan Cakiroglu*"
   ]
  },
  {
   "cell_type": "markdown",
   "metadata": {},
   "source": [
    "# 1. Memoizer Task\n",
    "Write a function that accepts a single-argument function f, and an integer k, and returns a function \n",
    "that behaves the same as f except it caches the last k results of f."
   ]
  },
  {
   "cell_type": "markdown",
   "metadata": {},
   "source": [
    "For instance, if memoize is the function we’re after, and let mem f = memoize(f, 2), then:\n",
    "- mem f(arg1) → f(arg1) is computed and cached\n",
    "- mem f(arg1) → f(arg1) is returned from cache\n",
    "- mem f(arg2) → f(arg2) is computed and cached\n",
    "- mem f(arg3) → f(arg3) is computed and cached, and f(arg1) is evicted"
   ]
  },
  {
   "cell_type": "markdown",
   "metadata": {},
   "source": [
    "## Solution \n",
    "\n",
    "### Comments\n",
    "It is intended to create a class whose arguments are a function (func) and an integer (memo_size)\n",
    "\n",
    "func is any function the class accepts for memoizing\n",
    "memo_size is the number of elements it is desired to cache\n",
    "Extra comments on the methods or the parameters of the class may be observed inline.\n",
    "\n",
    "The class can also have a function which has more than one arguments. A toy function, multiply(arg) is defined and it is used for memoizing.\n",
    "\n",
    "In order to observe the functionality of the class, there are some print commands written. You may examine the specific example which was mentioned on the assignment document.\n",
    "\n",
    "Firstly, **Cache()** class is defined. Cache() gets a function (func) and a memory size (mem_size) for initialization. The class creates a memory for the function. \n",
    "\n",
    "After initialization, when function is called with an input, the function is evaluated for the given input and written in memory.\n",
    "\n",
    "For further process, the method firstly checks if the function's value is in the memory for given input. If so, it does not evaluates the whole process, it just returns to the value. Else, it evaluates the function and saves the value in memory."
   ]
  },
  {
   "cell_type": "markdown",
   "metadata": {},
   "source": [
    "### Code"
   ]
  },
  {
   "cell_type": "code",
   "execution_count": 1,
   "metadata": {},
   "outputs": [
    {
     "name": "stdout",
     "output_type": "stream",
     "text": [
      "Function is evaluated for given input: f(0, 0) = 0\n",
      "MEMORY: {(0, 0): 0}\n",
      "----------------------------------------\n",
      "Function is evaluated for given input: f(1, 1) = 1\n",
      "MEMORY: {(0, 0): 0, (1, 1): 1}\n",
      "----------------------------------------\n",
      "Value is cached from memory:           f(1, 1) = 1\n",
      "MEMORY: {(0, 0): 0, (1, 1): 1}\n",
      "----------------------------------------\n",
      "(0, 0) : 0 is deleted from memory\n",
      "Function is evaluated for given input: f(2, 2) = 4\n",
      "MEMORY: {(1, 1): 1, (2, 2): 4}\n",
      "----------------------------------------\n",
      "Value is cached from memory:           f(2, 2) = 4\n",
      "MEMORY: {(1, 1): 1, (2, 2): 4}\n",
      "----------------------------------------\n",
      "(1, 1) : 1 is deleted from memory\n",
      "Function is evaluated for given input: f(3, 3) = 9\n",
      "MEMORY: {(3, 3): 9, (2, 2): 4}\n",
      "----------------------------------------\n",
      "(2, 2) : 4 is deleted from memory\n",
      "Function is evaluated for given input: f(4, 4) = 16\n",
      "MEMORY: {(3, 3): 9, (4, 4): 16}\n",
      "----------------------------------------\n"
     ]
    }
   ],
   "source": [
    "class Cache():\n",
    "    def __init__(self, func, memo_size=2):\n",
    "        self.func      = func\n",
    "        self.memo_size = memo_size\n",
    "        self.memo      = dict()\n",
    "        # memo is to cache the values in dictionary\n",
    "        self.arg_list  = list()\n",
    "        # arg_list is to obtain temporal information\n",
    "        \n",
    "                    \n",
    "    def __call__(self, *args):       \n",
    "        if not args in self.memo.keys():\n",
    "            self.memo[args] = self.func(*args)\n",
    "            self.arg_list.append(args)  \n",
    "            self.isReached()\n",
    "            print('Function is evaluated for given input: f{} = {}'.format(args, self.memo[args]))\n",
    "            print('MEMORY:', self.memo)\n",
    "        else:\n",
    "            print('Value is cached from memory:           f{} = {}'.format(args, self.memo[args]))\n",
    "            print('MEMORY:', self.memo)\n",
    "        return self.memo[args]\n",
    "    \n",
    "    def isReached(self):\n",
    "        # if the number of elements in memory is more than memo_size\n",
    "        # delete the oldest element in dictionary(Cache)\n",
    "        if len(self.memo) > self.memo_size:\n",
    "            print(self.arg_list[0], ':', self.memo[self.arg_list[0]], 'is deleted from memory')\n",
    "            del self.memo[self.arg_list[0]]\n",
    "            del self.arg_list[0]\n",
    "\n",
    "def multiply(a,b):\n",
    "    return a*b\n",
    "\n",
    "multiply = Cache(multiply, memo_size=2)     \n",
    "\n",
    "input_list = [0, 1, 1, 2, 2, 3, 4]\n",
    "\n",
    "for inp in input_list:\n",
    "    multiply(inp, inp)\n",
    "    print('--'*20)"
   ]
  },
  {
   "cell_type": "markdown",
   "metadata": {},
   "source": [
    "# 2. Knights of the Chess\n",
    "\n",
    "For this problem, we are interested in the number of phone numbers that can be generated\n",
    "using a specific set of rules on a standard phone keypad (Figure 1). Here are the rules:\n",
    "\n",
    "- phone numbers begin with the digit 2\n",
    "- phone numbers are 10 digits long\n",
    "- successive digits in each phone number are chosen as a knight moves in chess\n",
    "\n",
    "In chess, a knight (sometimes called a horse) moves two steps vertically and one step hori-\n",
    "zontally OR two steps horizontally and one step vertically. For example, from the digit 2 on\n",
    "the keypad a knight can move to digits 7 or 9; from the digit 6 on the keypad a knight can\n",
    "move to digits 1, 7 or 0. Note that a phone number may contain the same digit more than\n",
    "once. Only numerical digits can be used in phone numbers .\n",
    "\n",
    "How many different phone numbers can be formed given these rules? How does your solution\n",
    "scale with n the length of phone numbers? In particular, what is its time complexity?\n",
    "For your solution, provide a function that takes as input the length of phone numbers as well\n",
    "as the initial start position on the keypad, and for the output gives the number of unique\n",
    "phone numbers."
   ]
  },
  {
   "cell_type": "markdown",
   "metadata": {},
   "source": [
    "## Solution\n",
    "\n",
    "### Comments \n",
    "\n",
    "A recursive function is proposed as a solution for the second task Knights on the phone.\n",
    "\n",
    "Firstly, a dictionary whose keys are digits in keypad and values are the corresponding possible knight moves (or stands still) is generated.\n",
    "\n",
    "After that, the main function digitCombs(*args) recursive function is written.\n",
    "\n",
    "Extra comments on the parameters of the function may be observed inline.\n",
    "\n",
    "You may examine the specific example which was mentioned on the assignment document.\n",
    "\n",
    "Possible number of phone numbers starts with 2 and has a length of 10: 2 - - - - - - - - -\n"
   ]
  },
  {
   "cell_type": "markdown",
   "metadata": {},
   "source": [
    "### Code"
   ]
  },
  {
   "cell_type": "code",
   "execution_count": 2,
   "metadata": {},
   "outputs": [
    {
     "name": "stdout",
     "output_type": "stream",
     "text": [
      "Possible number of phone numbers starts with 2 and has a length of 10 is 34923\n"
     ]
    }
   ],
   "source": [
    "# digit_pos is a dictionary whose keys are digits in keypad,\n",
    "# and values are the corresponding knight moves\n",
    "digit_pos = {\n",
    "            0: (0,4,6),\n",
    "            1: (1,6,8),\n",
    "            2: (2,7,9),\n",
    "            3: (3,4,8),\n",
    "            4: (0,3,4,9),\n",
    "            5: (5,),\n",
    "            6: (0,1,6,7),\n",
    "            7: (2,6,7),\n",
    "            8: (1,3,8),\n",
    "            9: (2,4,9)\n",
    "            }\n",
    "\n",
    "def digitCombs(startInd, nDigits, currDigit=1):\n",
    "    '''\n",
    "    Inputs\n",
    "    -----------\n",
    "    startInd  : int, initial digit for generation of phone numbers\n",
    "    nDigits   : int, length of phone numbers\n",
    "    currDigit : int, current position of digit (necessity for recursive function) \n",
    "    \n",
    "    Returns\n",
    "    ----------\n",
    "    combinations : int, the number of different combinations for given the initial digit and the length of phone number\n",
    "    '''\n",
    "    \n",
    "    combinations = 0\n",
    "    if nDigits == currDigit:\n",
    "        return 1\n",
    "    else:\n",
    "        val = 0\n",
    "        for i in range(len(digit_pos[startInd])):\n",
    "            val = digitCombs(digit_pos[startInd][i],nDigits, currDigit+1)\n",
    "            combinations +=val\n",
    "        return combinations\n",
    "\n",
    "start  = 2\n",
    "length = 10\n",
    "starts2len10 = digitCombs(start, length)\n",
    "print('Possible number of phone numbers starts with {} and has a length of {} is {}'.format(start, length, starts2len10))"
   ]
  },
  {
   "cell_type": "markdown",
   "metadata": {},
   "source": [
    "### Graph\n",
    "\n",
    "The function's time complexity depending on n can be represented as O(logn)\n",
    "\n",
    "For instance, numbers starts with 2 and has a length of values in between (1,11) are plotted in the second cell."
   ]
  },
  {
   "cell_type": "code",
   "execution_count": 4,
   "metadata": {},
   "outputs": [
    {
     "data": {
      "image/png": "[encoded data removed]",
      "text/plain": [
       "<Figure size 960x640 with 1 Axes>"
      ]
     },
     "metadata": {},
     "output_type": "display_data"
    },
    {
     "name": "stdout",
     "output_type": "stream",
     "text": [
      "[1, 3, 9, 29, 93, 303, 989, 3241, 10633, 34923]\n"
     ]
    }
   ],
   "source": [
    "from matplotlib import pyplot as plt\n",
    "import numpy as np\n",
    "\n",
    "starts2 = [digitCombs(2,i) for i in range(1,11)]\n",
    "\n",
    "plt.figure(figsize=(12, 8), dpi= 80, facecolor='w', edgecolor='k')\n",
    "plt.stem(range(1,11),np.log(starts2))\n",
    "plt.show()\n",
    "print(starts2)"
   ]
  }
 ],
 "metadata": {
  "kernelspec": {
   "display_name": "Python 3",
   "language": "python",
   "name": "python3"
  },
  "language_info": {
   "codemirror_mode": {
    "name": "ipython",
    "version": 3
   },
   "file_extension": ".py",
   "mimetype": "text/x-python",
   "name": "python",
   "nbconvert_exporter": "python",
   "pygments_lexer": "ipython3",
   "version": "3.5.2"
  }
 },
 "nbformat": 4,
 "nbformat_minor": 2
}
